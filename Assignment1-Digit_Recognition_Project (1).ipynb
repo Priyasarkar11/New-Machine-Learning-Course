{
  "nbformat": 4,
  "nbformat_minor": 0,
  "metadata": {
    "colab": {
      "provenance": [],
      "gpuType": "T4"
    },
    "kernelspec": {
      "name": "python3",
      "display_name": "Python 3"
    },
    "language_info": {
      "name": "python"
    },
    "accelerator": "GPU"
  },
  "cells": [
    {
      "cell_type": "code",
      "execution_count": 1,
      "metadata": {
        "id": "cvWclUzbYrFQ"
      },
      "outputs": [],
      "source": [
        "# Handwritten Digit Recognition using PyTorch (MNIST Dataset)\n",
        "import torch                      # import PyTorch library\n",
        "import torch.nn as nn               # import neural network module\n",
        "import torch.optim as optim          # import optimization algorithms\n",
        "import torch.nn.functional as F             # import functional API for activations\n",
        "from torchvision import datasets, transforms          # for datasets and preprocessing\n",
        "from torch.utils.data import DataLoader           # for batching data"
      ]
    },
    {
      "cell_type": "code",
      "source": [
        "# 1. SET DEVICE\n",
        "\n",
        "device = torch.device(\"cuda\" if torch.cuda.is_available() else \"cpu\")   # use GPU if available, else CPU\n"
      ],
      "metadata": {
        "id": "WbO1373WZEqz"
      },
      "execution_count": 4,
      "outputs": []
    },
    {
      "cell_type": "code",
      "source": [
        "# 2. LOAD AND TRANSFORM DATA\n",
        "\n",
        "# Transform: convert images to tensors and normalize to range [-1, 1]\n",
        "transform = transforms.Compose([\n",
        "    transforms.ToTensor(),  # Convert to tensor\n",
        "    transforms.Normalize((0.5,), (0.5,))  # Normalize mean=0.5, std=0.5\n",
        "])\n"
      ],
      "metadata": {
        "id": "nUx_DjNLZpNb"
      },
      "execution_count": 5,
      "outputs": []
    },
    {
      "cell_type": "code",
      "source": [
        "# Download and load training data\n",
        "train_dataset = datasets.MNIST(root=\"./data\", train=True, download=True, transform=transform)   # load training set\n",
        "train_loader = DataLoader(train_dataset, batch_size=64, shuffle=True)    # load training set\n"
      ],
      "metadata": {
        "colab": {
          "base_uri": "https://localhost:8080/"
        },
        "id": "GnhVl_LkZvcd",
        "outputId": "714945f2-d09a-467a-bc67-8e8113166919"
      },
      "execution_count": 6,
      "outputs": [
        {
          "output_type": "stream",
          "name": "stderr",
          "text": [
            "100%|██████████| 9.91M/9.91M [00:00<00:00, 35.9MB/s]\n",
            "100%|██████████| 28.9k/28.9k [00:00<00:00, 1.12MB/s]\n",
            "100%|██████████| 1.65M/1.65M [00:00<00:00, 8.14MB/s]\n",
            "100%|██████████| 4.54k/4.54k [00:00<00:00, 4.49MB/s]\n"
          ]
        }
      ]
    },
    {
      "cell_type": "code",
      "source": [
        "# Download and load test data\n",
        "test_dataset = datasets.MNIST(root=\"./data\", train=False, download=True, transform=transform)  # load test set\n",
        "test_loader = DataLoader(test_dataset, batch_size=64, shuffle=False)       # batch test data\n"
      ],
      "metadata": {
        "id": "cPeAfvhXZ0nJ"
      },
      "execution_count": 7,
      "outputs": []
    },
    {
      "cell_type": "code",
      "source": [
        "# 3. BUILD NEURAL NETWORK MODEL\n",
        "\n",
        "class DigitClassifier(nn.Module):             # define a neural network class\n",
        "    def __init__(self):                         # constructor\n",
        "        super(DigitClassifier, self).__init__()    # call parent class constructor\n",
        "        self.fc1 = nn.Linear(28 * 28, 128)  # Input layer (784) → Hidden layer (128)/first fully connected layer (input=784, output=128)\n",
        "        self.fc2 = nn.Linear(128, 64)       # Hidden layer (128) → Hidden layer (64)/second fully connected layer (128 -> 64)\n",
        "        self.fc3 = nn.Linear(64, 10)        # Hidden layer (64) → Output layer (10 classes)/output layer (64 -> 10 classes for digits 0-9)\n",
        "\n",
        "    def forward(self, x):           # forward pass\n",
        "        x = x.view(-1, 28 * 28)  # Flatten 28x28 to 784/flatten image to vector\n",
        "        x = F.relu(self.fc1(x))  # ReLU activation/ apply ReLU activation on first layer\n",
        "        x = F.relu(self.fc2(x))  # ReLU activation/apply ReLU activation on second layer\n",
        "        x = self.fc3(x)          # Output layer (no activation, logits)\n",
        "        return x\n",
        "\n",
        "model = DigitClassifier().to(device)             # create model instance and move to GPU/CPU\n"
      ],
      "metadata": {
        "id": "LRa4e1sRZ6o6"
      },
      "execution_count": 8,
      "outputs": []
    },
    {
      "cell_type": "code",
      "source": [
        "# 4. LOSS FUNCTION AND OPTIMIZER\n",
        "\n",
        "criterion = nn.CrossEntropyLoss()  # Suitable for classification\n",
        "optimizer = optim.Adam(model.parameters(), lr=0.001) #Adam optimizer with learning rate 0.001\n"
      ],
      "metadata": {
        "id": "tMRQA_bSaAtc"
      },
      "execution_count": 9,
      "outputs": []
    },
    {
      "cell_type": "code",
      "source": [
        "# 5. TRAINING LOOP\n",
        "epochs = 15           # number of training epochs\n",
        "for epoch in range(epochs):      # loop through epochs\n",
        "    running_loss = 0.0                # track loss\n",
        "    for images, labels in train_loader:        # loop through batches\n",
        "        images, labels = images.to(device), labels.to(device)       # move data to device\n",
        "\n",
        "        optimizer.zero_grad()        # Clear previous gradients\n",
        "        outputs = model(images)      # Forward pass\n",
        "        loss = criterion(outputs, labels)  # Calculate loss\n",
        "        loss.backward()              # Backpropagation\n",
        "        optimizer.step()              # Update weights\n",
        "\n",
        "        running_loss += loss.item()       # add loss for this batch\n",
        "\n",
        "    print(f\"Epoch [{epoch+1}/{epochs}], Loss: {running_loss/len(train_loader):.4f}\")         # show epoch loss\n",
        "\n"
      ],
      "metadata": {
        "colab": {
          "base_uri": "https://localhost:8080/"
        },
        "id": "Ji1t3ZPaaHLv",
        "outputId": "13914f9a-74f4-42b7-9e8a-b170fd322d88"
      },
      "execution_count": 10,
      "outputs": [
        {
          "output_type": "stream",
          "name": "stdout",
          "text": [
            "Epoch [1/15], Loss: 0.3934\n",
            "Epoch [2/15], Loss: 0.1873\n",
            "Epoch [3/15], Loss: 0.1357\n",
            "Epoch [4/15], Loss: 0.1095\n",
            "Epoch [5/15], Loss: 0.0915\n",
            "Epoch [6/15], Loss: 0.0810\n",
            "Epoch [7/15], Loss: 0.0730\n",
            "Epoch [8/15], Loss: 0.0657\n",
            "Epoch [9/15], Loss: 0.0586\n",
            "Epoch [10/15], Loss: 0.0523\n",
            "Epoch [11/15], Loss: 0.0502\n",
            "Epoch [12/15], Loss: 0.0455\n",
            "Epoch [13/15], Loss: 0.0398\n",
            "Epoch [14/15], Loss: 0.0414\n",
            "Epoch [15/15], Loss: 0.0382\n"
          ]
        }
      ]
    },
    {
      "cell_type": "code",
      "source": [
        "# 6. TESTING LOOP (Accuracy)\n",
        "correct = 0                                 # count correct predictions\n",
        "total = 0                                      # count total predictions\n",
        "with torch.no_grad():  # No need to compute gradients during testing\n",
        "    for images, labels in test_loader:      # loop through test batches\n",
        "        images, labels = images.to(device), labels.to(device)  # move to device\n",
        "        outputs = model(images)               # forward pass\n",
        "        _, predicted = torch.max(outputs.data, 1)  # Get class with highest score\n",
        "        total += labels.size(0)                            # update total count\n",
        "        correct += (predicted == labels).sum().item()             # update correct count\n",
        "\n",
        "print(f\"\\nTest Accuracy: {100 * correct / total:.2f}%\")               # print test accuracy\n"
      ],
      "metadata": {
        "colab": {
          "base_uri": "https://localhost:8080/"
        },
        "id": "qM3x02wFbQ9N",
        "outputId": "0434907d-9b27-4154-ca8d-285b1b15b2ab"
      },
      "execution_count": 11,
      "outputs": [
        {
          "output_type": "stream",
          "name": "stdout",
          "text": [
            "\n",
            "Test Accuracy: 97.67%\n"
          ]
        }
      ]
    },
    {
      "cell_type": "code",
      "source": [
        "# 7. PREDICTION EXAMPLE\n",
        "sample_image, sample_label = test_dataset[0]           # get first sample from test set\n",
        "model.eval()                                             # set model to evaluation mode\n",
        "with torch.no_grad():                                          # no gradient calculation\n",
        "    output = model(sample_image.unsqueeze(0).to(device))         # add batch dimension and predict\n",
        "    predicted_class = output.argmax(dim=1).item()                # get predicted class\n",
        "\n",
        "print(f\"\\nPredicted Digit: {predicted_class}\")                  # print predicted digit\n",
        "print(f\"Actual Digit: {sample_label}\")                               # print actual digit"
      ],
      "metadata": {
        "colab": {
          "base_uri": "https://localhost:8080/"
        },
        "id": "xS2UkyV1bbCJ",
        "outputId": "ed1c6813-7091-4b39-943b-3bb1323a1f14"
      },
      "execution_count": 12,
      "outputs": [
        {
          "output_type": "stream",
          "name": "stdout",
          "text": [
            "\n",
            "Predicted Digit: 7\n",
            "Actual Digit: 7\n"
          ]
        }
      ]
    },
    {
      "cell_type": "code",
      "source": [
        "from google.colab import files         # to upload image files from your computer to colab\n",
        "uploaded = files.upload()            # opens a file upload dialog\n"
      ],
      "metadata": {
        "colab": {
          "base_uri": "https://localhost:8080/",
          "height": 71
        },
        "id": "aRlg0agfcDPK",
        "outputId": "f6b166d8-9e6e-4587-beb0-4cae3ee67d65"
      },
      "execution_count": 15,
      "outputs": [
        {
          "output_type": "display_data",
          "data": {
            "text/plain": [
              "<IPython.core.display.HTML object>"
            ],
            "text/html": [
              "\n",
              "     <input type=\"file\" id=\"files-adb4c2ba-93f9-4693-8b3f-82133983651e\" name=\"files[]\" multiple disabled\n",
              "        style=\"border:none\" />\n",
              "     <output id=\"result-adb4c2ba-93f9-4693-8b3f-82133983651e\">\n",
              "      Upload widget is only available when the cell has been executed in the\n",
              "      current browser session. Please rerun this cell to enable.\n",
              "      </output>\n",
              "      <script>// Copyright 2017 Google LLC\n",
              "//\n",
              "// Licensed under the Apache License, Version 2.0 (the \"License\");\n",
              "// you may not use this file except in compliance with the License.\n",
              "// You may obtain a copy of the License at\n",
              "//\n",
              "//      http://www.apache.org/licenses/LICENSE-2.0\n",
              "//\n",
              "// Unless required by applicable law or agreed to in writing, software\n",
              "// distributed under the License is distributed on an \"AS IS\" BASIS,\n",
              "// WITHOUT WARRANTIES OR CONDITIONS OF ANY KIND, either express or implied.\n",
              "// See the License for the specific language governing permissions and\n",
              "// limitations under the License.\n",
              "\n",
              "/**\n",
              " * @fileoverview Helpers for google.colab Python module.\n",
              " */\n",
              "(function(scope) {\n",
              "function span(text, styleAttributes = {}) {\n",
              "  const element = document.createElement('span');\n",
              "  element.textContent = text;\n",
              "  for (const key of Object.keys(styleAttributes)) {\n",
              "    element.style[key] = styleAttributes[key];\n",
              "  }\n",
              "  return element;\n",
              "}\n",
              "\n",
              "// Max number of bytes which will be uploaded at a time.\n",
              "const MAX_PAYLOAD_SIZE = 100 * 1024;\n",
              "\n",
              "function _uploadFiles(inputId, outputId) {\n",
              "  const steps = uploadFilesStep(inputId, outputId);\n",
              "  const outputElement = document.getElementById(outputId);\n",
              "  // Cache steps on the outputElement to make it available for the next call\n",
              "  // to uploadFilesContinue from Python.\n",
              "  outputElement.steps = steps;\n",
              "\n",
              "  return _uploadFilesContinue(outputId);\n",
              "}\n",
              "\n",
              "// This is roughly an async generator (not supported in the browser yet),\n",
              "// where there are multiple asynchronous steps and the Python side is going\n",
              "// to poll for completion of each step.\n",
              "// This uses a Promise to block the python side on completion of each step,\n",
              "// then passes the result of the previous step as the input to the next step.\n",
              "function _uploadFilesContinue(outputId) {\n",
              "  const outputElement = document.getElementById(outputId);\n",
              "  const steps = outputElement.steps;\n",
              "\n",
              "  const next = steps.next(outputElement.lastPromiseValue);\n",
              "  return Promise.resolve(next.value.promise).then((value) => {\n",
              "    // Cache the last promise value to make it available to the next\n",
              "    // step of the generator.\n",
              "    outputElement.lastPromiseValue = value;\n",
              "    return next.value.response;\n",
              "  });\n",
              "}\n",
              "\n",
              "/**\n",
              " * Generator function which is called between each async step of the upload\n",
              " * process.\n",
              " * @param {string} inputId Element ID of the input file picker element.\n",
              " * @param {string} outputId Element ID of the output display.\n",
              " * @return {!Iterable<!Object>} Iterable of next steps.\n",
              " */\n",
              "function* uploadFilesStep(inputId, outputId) {\n",
              "  const inputElement = document.getElementById(inputId);\n",
              "  inputElement.disabled = false;\n",
              "\n",
              "  const outputElement = document.getElementById(outputId);\n",
              "  outputElement.innerHTML = '';\n",
              "\n",
              "  const pickedPromise = new Promise((resolve) => {\n",
              "    inputElement.addEventListener('change', (e) => {\n",
              "      resolve(e.target.files);\n",
              "    });\n",
              "  });\n",
              "\n",
              "  const cancel = document.createElement('button');\n",
              "  inputElement.parentElement.appendChild(cancel);\n",
              "  cancel.textContent = 'Cancel upload';\n",
              "  const cancelPromise = new Promise((resolve) => {\n",
              "    cancel.onclick = () => {\n",
              "      resolve(null);\n",
              "    };\n",
              "  });\n",
              "\n",
              "  // Wait for the user to pick the files.\n",
              "  const files = yield {\n",
              "    promise: Promise.race([pickedPromise, cancelPromise]),\n",
              "    response: {\n",
              "      action: 'starting',\n",
              "    }\n",
              "  };\n",
              "\n",
              "  cancel.remove();\n",
              "\n",
              "  // Disable the input element since further picks are not allowed.\n",
              "  inputElement.disabled = true;\n",
              "\n",
              "  if (!files) {\n",
              "    return {\n",
              "      response: {\n",
              "        action: 'complete',\n",
              "      }\n",
              "    };\n",
              "  }\n",
              "\n",
              "  for (const file of files) {\n",
              "    const li = document.createElement('li');\n",
              "    li.append(span(file.name, {fontWeight: 'bold'}));\n",
              "    li.append(span(\n",
              "        `(${file.type || 'n/a'}) - ${file.size} bytes, ` +\n",
              "        `last modified: ${\n",
              "            file.lastModifiedDate ? file.lastModifiedDate.toLocaleDateString() :\n",
              "                                    'n/a'} - `));\n",
              "    const percent = span('0% done');\n",
              "    li.appendChild(percent);\n",
              "\n",
              "    outputElement.appendChild(li);\n",
              "\n",
              "    const fileDataPromise = new Promise((resolve) => {\n",
              "      const reader = new FileReader();\n",
              "      reader.onload = (e) => {\n",
              "        resolve(e.target.result);\n",
              "      };\n",
              "      reader.readAsArrayBuffer(file);\n",
              "    });\n",
              "    // Wait for the data to be ready.\n",
              "    let fileData = yield {\n",
              "      promise: fileDataPromise,\n",
              "      response: {\n",
              "        action: 'continue',\n",
              "      }\n",
              "    };\n",
              "\n",
              "    // Use a chunked sending to avoid message size limits. See b/62115660.\n",
              "    let position = 0;\n",
              "    do {\n",
              "      const length = Math.min(fileData.byteLength - position, MAX_PAYLOAD_SIZE);\n",
              "      const chunk = new Uint8Array(fileData, position, length);\n",
              "      position += length;\n",
              "\n",
              "      const base64 = btoa(String.fromCharCode.apply(null, chunk));\n",
              "      yield {\n",
              "        response: {\n",
              "          action: 'append',\n",
              "          file: file.name,\n",
              "          data: base64,\n",
              "        },\n",
              "      };\n",
              "\n",
              "      let percentDone = fileData.byteLength === 0 ?\n",
              "          100 :\n",
              "          Math.round((position / fileData.byteLength) * 100);\n",
              "      percent.textContent = `${percentDone}% done`;\n",
              "\n",
              "    } while (position < fileData.byteLength);\n",
              "  }\n",
              "\n",
              "  // All done.\n",
              "  yield {\n",
              "    response: {\n",
              "      action: 'complete',\n",
              "    }\n",
              "  };\n",
              "}\n",
              "\n",
              "scope.google = scope.google || {};\n",
              "scope.google.colab = scope.google.colab || {};\n",
              "scope.google.colab._files = {\n",
              "  _uploadFiles,\n",
              "  _uploadFilesContinue,\n",
              "};\n",
              "})(self);\n",
              "</script> "
            ]
          },
          "metadata": {}
        },
        {
          "output_type": "stream",
          "name": "stdout",
          "text": [
            "Saving digit (1).png to digit (1).png\n"
          ]
        }
      ]
    },
    {
      "cell_type": "code",
      "source": [
        "from PIL import Image      # to open and process image files\n",
        "import torchvision.transforms as transforms    # for image preprocessing\n",
        "import torch              # for tensor operations\n",
        "\n",
        "# Load image\n",
        "image = Image.open(list(uploaded.keys())[0]).convert('L')  # Convert to grayscale\n",
        "\n",
        "# Transform image (resize, convert to tensor, normalize)\n",
        "transform = transforms.Compose([\n",
        "    transforms.Resize((28, 28)),     # Resize to 28x28\n",
        "    transforms.ToTensor(),           # Convert to tensor\n",
        "    transforms.Normalize((0.5,), (0.5,))  # Normalize\n",
        "])\n",
        "\n",
        "image = transform(image).unsqueeze(0)  # Add batch dimension\n",
        "\n",
        "# Predict\n",
        "model.eval()\n",
        "with torch.no_grad():\n",
        "    output = model(image.to(device))\n",
        "    predicted_class = output.argmax(dim=1).item()\n",
        "\n",
        "print(f\"Predicted Digit: {predicted_class}\")\n"
      ],
      "metadata": {
        "colab": {
          "base_uri": "https://localhost:8080/"
        },
        "id": "FJc4UR7ncOqd",
        "outputId": "955b8f9f-c4f8-4881-8ef6-22ef412b15a6"
      },
      "execution_count": 16,
      "outputs": [
        {
          "output_type": "stream",
          "name": "stdout",
          "text": [
            "Predicted Digit: 9\n"
          ]
        }
      ]
    }
  ]
}

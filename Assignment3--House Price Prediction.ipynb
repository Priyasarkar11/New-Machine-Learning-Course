{
  "nbformat": 4,
  "nbformat_minor": 0,
  "metadata": {
    "colab": {
      "provenance": []
    },
    "kernelspec": {
      "name": "python3",
      "display_name": "Python 3"
    },
    "language_info": {
      "name": "python"
    }
  },
  "cells": [
    {
      "cell_type": "code",
      "execution_count": 71,
      "metadata": {
        "id": "yboHneZIf187"
      },
      "outputs": [],
      "source": [
        "# Import libraries\n",
        "import pandas as pd                  # for data handling\n",
        "import numpy as np                   # for numerical operations\n",
        "import matplotlib.pyplot as plt      # for plotting graphs\n",
        "from sklearn.model_selection import train_test_split  # for splitting dataset\n"
      ]
    },
    {
      "cell_type": "code",
      "source": [
        "#Step 2: Load dataset\n",
        "from google.colab import files   # to upload file in colab\n",
        "uploaded = files.upload()        # upload  Housing.csv\n",
        "\n"
      ],
      "metadata": {
        "colab": {
          "base_uri": "https://localhost:8080/",
          "height": 73
        },
        "id": "nl-u4wuvgXi_",
        "outputId": "76a48c56-4f5d-4d9e-eaf4-5090a9abdcf9"
      },
      "execution_count": 72,
      "outputs": [
        {
          "output_type": "display_data",
          "data": {
            "text/plain": [
              "<IPython.core.display.HTML object>"
            ],
            "text/html": [
              "\n",
              "     <input type=\"file\" id=\"files-cb58ade6-b256-4c69-af35-386fe74589f9\" name=\"files[]\" multiple disabled\n",
              "        style=\"border:none\" />\n",
              "     <output id=\"result-cb58ade6-b256-4c69-af35-386fe74589f9\">\n",
              "      Upload widget is only available when the cell has been executed in the\n",
              "      current browser session. Please rerun this cell to enable.\n",
              "      </output>\n",
              "      <script>// Copyright 2017 Google LLC\n",
              "//\n",
              "// Licensed under the Apache License, Version 2.0 (the \"License\");\n",
              "// you may not use this file except in compliance with the License.\n",
              "// You may obtain a copy of the License at\n",
              "//\n",
              "//      http://www.apache.org/licenses/LICENSE-2.0\n",
              "//\n",
              "// Unless required by applicable law or agreed to in writing, software\n",
              "// distributed under the License is distributed on an \"AS IS\" BASIS,\n",
              "// WITHOUT WARRANTIES OR CONDITIONS OF ANY KIND, either express or implied.\n",
              "// See the License for the specific language governing permissions and\n",
              "// limitations under the License.\n",
              "\n",
              "/**\n",
              " * @fileoverview Helpers for google.colab Python module.\n",
              " */\n",
              "(function(scope) {\n",
              "function span(text, styleAttributes = {}) {\n",
              "  const element = document.createElement('span');\n",
              "  element.textContent = text;\n",
              "  for (const key of Object.keys(styleAttributes)) {\n",
              "    element.style[key] = styleAttributes[key];\n",
              "  }\n",
              "  return element;\n",
              "}\n",
              "\n",
              "// Max number of bytes which will be uploaded at a time.\n",
              "const MAX_PAYLOAD_SIZE = 100 * 1024;\n",
              "\n",
              "function _uploadFiles(inputId, outputId) {\n",
              "  const steps = uploadFilesStep(inputId, outputId);\n",
              "  const outputElement = document.getElementById(outputId);\n",
              "  // Cache steps on the outputElement to make it available for the next call\n",
              "  // to uploadFilesContinue from Python.\n",
              "  outputElement.steps = steps;\n",
              "\n",
              "  return _uploadFilesContinue(outputId);\n",
              "}\n",
              "\n",
              "// This is roughly an async generator (not supported in the browser yet),\n",
              "// where there are multiple asynchronous steps and the Python side is going\n",
              "// to poll for completion of each step.\n",
              "// This uses a Promise to block the python side on completion of each step,\n",
              "// then passes the result of the previous step as the input to the next step.\n",
              "function _uploadFilesContinue(outputId) {\n",
              "  const outputElement = document.getElementById(outputId);\n",
              "  const steps = outputElement.steps;\n",
              "\n",
              "  const next = steps.next(outputElement.lastPromiseValue);\n",
              "  return Promise.resolve(next.value.promise).then((value) => {\n",
              "    // Cache the last promise value to make it available to the next\n",
              "    // step of the generator.\n",
              "    outputElement.lastPromiseValue = value;\n",
              "    return next.value.response;\n",
              "  });\n",
              "}\n",
              "\n",
              "/**\n",
              " * Generator function which is called between each async step of the upload\n",
              " * process.\n",
              " * @param {string} inputId Element ID of the input file picker element.\n",
              " * @param {string} outputId Element ID of the output display.\n",
              " * @return {!Iterable<!Object>} Iterable of next steps.\n",
              " */\n",
              "function* uploadFilesStep(inputId, outputId) {\n",
              "  const inputElement = document.getElementById(inputId);\n",
              "  inputElement.disabled = false;\n",
              "\n",
              "  const outputElement = document.getElementById(outputId);\n",
              "  outputElement.innerHTML = '';\n",
              "\n",
              "  const pickedPromise = new Promise((resolve) => {\n",
              "    inputElement.addEventListener('change', (e) => {\n",
              "      resolve(e.target.files);\n",
              "    });\n",
              "  });\n",
              "\n",
              "  const cancel = document.createElement('button');\n",
              "  inputElement.parentElement.appendChild(cancel);\n",
              "  cancel.textContent = 'Cancel upload';\n",
              "  const cancelPromise = new Promise((resolve) => {\n",
              "    cancel.onclick = () => {\n",
              "      resolve(null);\n",
              "    };\n",
              "  });\n",
              "\n",
              "  // Wait for the user to pick the files.\n",
              "  const files = yield {\n",
              "    promise: Promise.race([pickedPromise, cancelPromise]),\n",
              "    response: {\n",
              "      action: 'starting',\n",
              "    }\n",
              "  };\n",
              "\n",
              "  cancel.remove();\n",
              "\n",
              "  // Disable the input element since further picks are not allowed.\n",
              "  inputElement.disabled = true;\n",
              "\n",
              "  if (!files) {\n",
              "    return {\n",
              "      response: {\n",
              "        action: 'complete',\n",
              "      }\n",
              "    };\n",
              "  }\n",
              "\n",
              "  for (const file of files) {\n",
              "    const li = document.createElement('li');\n",
              "    li.append(span(file.name, {fontWeight: 'bold'}));\n",
              "    li.append(span(\n",
              "        `(${file.type || 'n/a'}) - ${file.size} bytes, ` +\n",
              "        `last modified: ${\n",
              "            file.lastModifiedDate ? file.lastModifiedDate.toLocaleDateString() :\n",
              "                                    'n/a'} - `));\n",
              "    const percent = span('0% done');\n",
              "    li.appendChild(percent);\n",
              "\n",
              "    outputElement.appendChild(li);\n",
              "\n",
              "    const fileDataPromise = new Promise((resolve) => {\n",
              "      const reader = new FileReader();\n",
              "      reader.onload = (e) => {\n",
              "        resolve(e.target.result);\n",
              "      };\n",
              "      reader.readAsArrayBuffer(file);\n",
              "    });\n",
              "    // Wait for the data to be ready.\n",
              "    let fileData = yield {\n",
              "      promise: fileDataPromise,\n",
              "      response: {\n",
              "        action: 'continue',\n",
              "      }\n",
              "    };\n",
              "\n",
              "    // Use a chunked sending to avoid message size limits. See b/62115660.\n",
              "    let position = 0;\n",
              "    do {\n",
              "      const length = Math.min(fileData.byteLength - position, MAX_PAYLOAD_SIZE);\n",
              "      const chunk = new Uint8Array(fileData, position, length);\n",
              "      position += length;\n",
              "\n",
              "      const base64 = btoa(String.fromCharCode.apply(null, chunk));\n",
              "      yield {\n",
              "        response: {\n",
              "          action: 'append',\n",
              "          file: file.name,\n",
              "          data: base64,\n",
              "        },\n",
              "      };\n",
              "\n",
              "      let percentDone = fileData.byteLength === 0 ?\n",
              "          100 :\n",
              "          Math.round((position / fileData.byteLength) * 100);\n",
              "      percent.textContent = `${percentDone}% done`;\n",
              "\n",
              "    } while (position < fileData.byteLength);\n",
              "  }\n",
              "\n",
              "  // All done.\n",
              "  yield {\n",
              "    response: {\n",
              "      action: 'complete',\n",
              "    }\n",
              "  };\n",
              "}\n",
              "\n",
              "scope.google = scope.google || {};\n",
              "scope.google.colab = scope.google.colab || {};\n",
              "scope.google.colab._files = {\n",
              "  _uploadFiles,\n",
              "  _uploadFilesContinue,\n",
              "};\n",
              "})(self);\n",
              "</script> "
            ]
          },
          "metadata": {}
        },
        {
          "output_type": "stream",
          "name": "stdout",
          "text": [
            "Saving Housing.csv to Housing (2).csv\n"
          ]
        }
      ]
    },
    {
      "cell_type": "code",
      "source": [
        "# Read dataset\n",
        "data = pd.read_csv(\"Housing.csv\")\n",
        "df = data[[\"area\", \"price\"]]         # keep only 'area' (feature) and 'price' (target)\n",
        "\n"
      ],
      "metadata": {
        "id": "Q5sKqJtQgebZ"
      },
      "execution_count": 74,
      "outputs": []
    },
    {
      "cell_type": "code",
      "source": [
        "# Select only \"area\" as feature (X) and \"price\" as target (y)\n",
        "X = data[['area']].values    # take area (house size) column as input feature\n",
        "y = data[['price']].values   # take price column as output target\n"
      ],
      "metadata": {
        "id": "1gq1TLONgl9s"
      },
      "execution_count": 75,
      "outputs": []
    },
    {
      "cell_type": "code",
      "source": [
        "# Step 2: Split into training & testing\n",
        "# Split dataset into 80% training and 20% testing\n",
        "X_train, X_test, y_train, y_test = train_test_split(\n",
        "    X, y, test_size=0.2, random_state=42  #42 is just a reproducible random seed.\n",
        ")"
      ],
      "metadata": {
        "id": "7772WtEIgpwu"
      },
      "execution_count": 76,
      "outputs": []
    },
    {
      "cell_type": "code",
      "source": [
        "# Reshape arrays to 1D (to make mathematical calculations easier)\n",
        "X_train = X_train.reshape(-1)   # flatten training input\n",
        "y_train = y_train.reshape(-1)   # flatten training output\n",
        "X_test  = X_test.reshape(-1)    # flatten test input\n",
        "y_test  = y_test.reshape(-1)    # flatten test output\n"
      ],
      "metadata": {
        "id": "6brBCz_blKAa"
      },
      "execution_count": 77,
      "outputs": []
    },
    {
      "cell_type": "code",
      "source": [
        "#  Step 3: Initialize parameters\n",
        "m = 0            # initial slope (line gradient)\n",
        "b = 0            # initial intercept (where line cuts y-axis)\n",
        "lr = 1e-8  # learning rate (very small, since dataset values are large)\n",
        "epochs = 500  # number of iterations for training\n",
        "errors = []      # list to store errors for each epoch\n",
        "\n",
        "n = len(X_train) # total number of training samples\n"
      ],
      "metadata": {
        "id": "ygKdeStopBHm"
      },
      "execution_count": 78,
      "outputs": []
    },
    {
      "cell_type": "code",
      "source": [
        "# Step 4: Gradient Descent Training\n",
        "for i in range(epochs):   # repeat for given number of epochs\n",
        "    y_pred = m * X_train + b        # predict prices using current slope and intercept\n",
        "    error = y_train - y_pred        # calculate error (difference between actual and predicted)\n",
        "    sse = np.sum(error ** 2)        # calculate Sum of Squared Errors (SSE)\n",
        "    errors.append(sse)              # store error value for plotting later\n",
        "\n",
        "    # Calculate gradients (partial derivatives)\n",
        "    m_grad = -(2/n) * np.sum(X_train * error)   # gradient of error wrt slope\n",
        "    b_grad = -(2/n) * np.sum(error)             # gradient of error wrt intercept\n",
        "\n",
        "    # Update slope and intercept using gradient descent rule\n",
        "    m = m - lr * m_grad   # new slope\n",
        "    b = b - lr * b_grad   # new intercept\n"
      ],
      "metadata": {
        "id": "XTk8Ovbpgxeh"
      },
      "execution_count": 79,
      "outputs": []
    },
    {
      "cell_type": "code",
      "source": [
        "# Step 5: Print final model\n",
        "print(f\"Final slope (m): {m}\")      # print learned slope\n",
        "print(f\"Final intercept (b): {b}\")  # print learned intercept\n"
      ],
      "metadata": {
        "colab": {
          "base_uri": "https://localhost:8080/"
        },
        "id": "WweAKlp4qWi4",
        "outputId": "e65fd855-becb-45b3-edfb-b36e07d48663"
      },
      "execution_count": 80,
      "outputs": [
        {
          "output_type": "stream",
          "name": "stdout",
          "text": [
            "Final slope (m): 837.9310402307658\n",
            "Final intercept (b): 4.014545006763529\n"
          ]
        }
      ]
    },
    {
      "cell_type": "code",
      "source": [
        "# Step 6: Plot Error vs Epoch\n",
        "plt.plot(range(epochs), errors, color='green')       # plot epochs on x-axis and errors on y-axis\n",
        "plt.xlabel(\"Epochs\")                               # label for x-axis\n",
        "plt.ylabel(\"Sum of Squared Errors\")                # label for y-axis\n",
        "plt.title(\"Epoch vs Error (Training Progress)\")    # title of the graph\n",
        "plt.show()                                         # show the graph\n"
      ],
      "metadata": {
        "colab": {
          "base_uri": "https://localhost:8080/",
          "height": 472
        },
        "id": "5__DIsLfg7bF",
        "outputId": "6fcd6360-105d-40e3-9e7c-9a3c45634db1"
      },
      "execution_count": 81,
      "outputs": [
        {
          "output_type": "display_data",
          "data": {
            "text/plain": [
              "<Figure size 640x480 with 1 Axes>"
            ],
            "image/png": "[encoded data removed]"
          },
          "metadata": {}
        }
      ]
    },
    {
      "cell_type": "code",
      "source": [
        "# Step 7: Test model accuracy\n",
        "y_pred_test = m * X_test + b    # predict prices on test data using final model"
      ],
      "metadata": {
        "id": "olT4efXMhAHq"
      },
      "execution_count": 82,
      "outputs": []
    },
    {
      "cell_type": "code",
      "source": [
        "# Import R² metric to check accuracy\n",
        "from sklearn.metrics import r2_score\n",
        "print(\"R² Score on Test Data:\", r2_score(y_test, y_pred_test))  # print R² score\n"
      ],
      "metadata": {
        "colab": {
          "base_uri": "https://localhost:8080/"
        },
        "id": "QrB2BPVohP3A",
        "outputId": "1c123fb0-0b14-4d5e-cdb4-bafc6f4db761"
      },
      "execution_count": 83,
      "outputs": [
        {
          "output_type": "stream",
          "name": "stdout",
          "text": [
            "R² Score on Test Data: 0.19515442975852215\n"
          ]
        }
      ]
    },
    {
      "cell_type": "markdown",
      "source": [
        "**Additional**\n"
      ],
      "metadata": {
        "id": "YJt__JpXpTXR"
      }
    },
    {
      "cell_type": "code",
      "metadata": {
        "colab": {
          "base_uri": "https://localhost:8080/"
        },
        "id": "70095d4b",
        "outputId": "5c3e58a4-8edf-465f-c91e-6c8e48e0ed44"
      },
      "source": [
        "# Import LinearRegression from scikit-learn\n",
        "from sklearn.linear_model import LinearRegression\n",
        "from sklearn.metrics import r2_score\n",
        "\n",
        "# Create a Linear Regression model instance\n",
        "model_sklearn = LinearRegression()\n",
        "\n",
        "# Train the model using the training data\n",
        "model_sklearn.fit(X_train.reshape(-1, 1), y_train)\n",
        "\n",
        "# Predict on the test data\n",
        "y_pred_sklearn = model_sklearn.predict(X_test.reshape(-1, 1))\n",
        "\n",
        "# Evaluate the model using R² score\n",
        "r2_sklearn = r2_score(y_test, y_pred_sklearn)\n",
        "\n",
        "print(\"R² Score on Test Data (scikit-learn):\", r2_sklearn)\n",
        "print(\"Slope (scikit-learn):\", model_sklearn.coef_[0])\n",
        "print(\"Intercept (scikit-learn):\", model_sklearn.intercept_)"
      ],
      "execution_count": null,
      "outputs": [
        {
          "output_type": "stream",
          "name": "stdout",
          "text": [
            "R² Score on Test Data (scikit-learn): 0.27287851871974644\n",
            "Slope (scikit-learn): 425.72984193878284\n",
            "Intercept (scikit-learn): 2512254.2639593435\n"
          ]
        }
      ]
    },
    {
      "cell_type": "markdown",
      "source": [
        "**Note:** R² is low because house price depends on many factors, not just area. Also, scaling data and tuning learning rate/epochs can improve the fit but still won’t make R² very high with only one feature.\n"
      ],
      "metadata": {
        "id": "Xo0Joqz4Akx2"
      }
    }
  ]
}